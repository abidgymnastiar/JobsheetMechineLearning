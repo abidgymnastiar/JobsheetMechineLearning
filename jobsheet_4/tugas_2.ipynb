{
  "nbformat": 4,
  "nbformat_minor": 0,
  "metadata": {
    "colab": {
      "provenance": [],
      "authorship_tag": "ABX9TyNTRAW46u5rF1k2c1vKhOXb",
      "include_colab_link": true
    },
    "kernelspec": {
      "name": "python3",
      "display_name": "Python 3"
    },
    "language_info": {
      "name": "python"
    }
  },
  "cells": [
    {
      "cell_type": "markdown",
      "metadata": {
        "id": "view-in-github",
        "colab_type": "text"
      },
      "source": [
        "<a href=\"https://colab.research.google.com/github/abidgymnastiar/JobsheetMechineLearning/blob/main/jobsheet_4/tugas_2.ipynb\" target=\"_parent\"><img src=\"https://colab.research.google.com/assets/colab-badge.svg\" alt=\"Open In Colab\"/></a>"
      ]
    },
    {
      "cell_type": "code",
      "source": [
        "from google.colab import drive\n",
        "drive.mount('/content/drive')"
      ],
      "metadata": {
        "colab": {
          "base_uri": "https://localhost:8080/"
        },
        "id": "JSSrr0c0srMZ",
        "outputId": "814e0607-6a83-49c0-f53a-c8baf6c2a929"
      },
      "execution_count": null,
      "outputs": [
        {
          "output_type": "stream",
          "name": "stdout",
          "text": [
            "Mounted at /content/drive\n"
          ]
        }
      ]
    },
    {
      "cell_type": "code",
      "source": [
        "# Import required libraries\n",
        "from pathlib import Path\n",
        "import matplotlib.image as mpimg\n",
        "import cv2\n",
        "import numpy as np\n",
        "from sklearn import svm\n",
        "from sklearn.metrics import accuracy_score\n",
        "\n",
        "# Directory untuk data training dan testing\n",
        "train_dir = \"/content/drive/MyDrive/MechineLearning/images/training\"\n",
        "test_dir = \"/content/drive/MyDrive/MechineLearning/images/test\"\n",
        "\n",
        "# Fungsi untuk memuat dataset\n",
        "def load_dataset(img_dir):\n",
        "    p = Path(img_dir)\n",
        "    dirs = p.glob('*')\n",
        "\n",
        "    img_list = []\n",
        "\n",
        "    for dir in dirs:\n",
        "        label = str(dir).split('/')[-1]  # Ambil nama folder sebagai label\n",
        "        for file in dir.glob('*.jpg'):\n",
        "            img = mpimg.imread(file)\n",
        "\n",
        "            if img is not None:\n",
        "                img_list.append((img, label))\n",
        "\n",
        "    return img_list\n",
        "\n",
        "# Fungsi untuk menstandarkan ukuran gambar\n",
        "def standarized_input(image):\n",
        "    std_img = cv2.resize(image, (1100, 600))\n",
        "    return std_img\n",
        "\n",
        "# Fungsi untuk encoding label\n",
        "def label_encoder(label):\n",
        "    return 1 if label == 'day' else 0\n",
        "\n",
        "# Fungsi untuk melakukan pra-pengolahan\n",
        "def preprocess(img_list):\n",
        "    std_img_list = []\n",
        "    for item in img_list:\n",
        "        image = item[0]\n",
        "        label = item[1]\n",
        "\n",
        "        # Standarized the image\n",
        "        std_img = standarized_input(image)\n",
        "\n",
        "        # Create the label\n",
        "        img_label = label_encoder(label)\n",
        "\n",
        "        std_img_list.append((std_img, img_label))\n",
        "\n",
        "    return std_img_list\n",
        "\n",
        "# Fungsi untuk menghitung histogram gambar\n",
        "def calculate_histogram(image):\n",
        "    img_hsv = cv2.cvtColor(image, cv2.COLOR_RGB2HSV)  # Convert to HSV\n",
        "    histogram = cv2.calcHist([img_hsv], [2], None, [256], [0, 256])  # Hitung histogram\n",
        "    histogram = cv2.normalize(histogram, histogram).flatten()  # Normalisasi histogram\n",
        "    return histogram\n",
        "\n",
        "# Fungsi untuk memproses dataset dan menghitung histogram\n",
        "def preprocess_with_histogram(img_list):\n",
        "    features = []\n",
        "    labels = []\n",
        "\n",
        "    for item in img_list:\n",
        "        image = item[0]\n",
        "        label = item[1]\n",
        "\n",
        "        # Hitung histogram\n",
        "        hist = calculate_histogram(image)\n",
        "\n",
        "        features.append(hist)\n",
        "        labels.append(label)\n",
        "\n",
        "    return np.array(features), np.array(labels)\n",
        "\n",
        "# Load dan proses data training\n",
        "train_img = load_dataset(train_dir)\n",
        "train_std_img_list = preprocess(train_img)\n",
        "X_train, y_train = preprocess_with_histogram(train_std_img_list)\n",
        "\n",
        "# Membangun model SVM\n",
        "model = svm.SVC(kernel='linear')  # Menggunakan kernel linear\n",
        "model.fit(X_train, y_train)  # Melatih model\n",
        "\n",
        "# Menghitung akurasi data training\n",
        "train_predictions = model.predict(X_train)\n",
        "train_accuracy = accuracy_score(y_train, train_predictions)\n",
        "\n",
        "# Load dan proses data pengujian\n",
        "test_img = load_dataset(test_dir)\n",
        "test_std_img_list = preprocess(test_img)\n",
        "X_test, y_test = preprocess_with_histogram(test_std_img_list)\n",
        "\n",
        "# Prediksi menggunakan model untuk data testing\n",
        "y_pred = model.predict(X_test)\n",
        "\n",
        "# Menghitung akurasi data testing\n",
        "test_accuracy = accuracy_score(y_test, y_pred)\n",
        "\n",
        "# Menampilkan hasil akurasi\n",
        "print(f\"Akurasi Data Training: {train_accuracy:.4f}\")\n",
        "print(f\"Akurasi Data Testing: {test_accuracy:.4f}\")\n"
      ],
      "metadata": {
        "colab": {
          "base_uri": "https://localhost:8080/"
        },
        "id": "T2CIWB8937N0",
        "outputId": "4fcd90e2-c041-4013-da5a-8faf2b1be59b"
      },
      "execution_count": 14,
      "outputs": [
        {
          "output_type": "stream",
          "name": "stdout",
          "text": [
            "Akurasi Data Training: 0.9958\n",
            "Akurasi Data Testing: 0.9563\n"
          ]
        }
      ]
    }
  ]
}